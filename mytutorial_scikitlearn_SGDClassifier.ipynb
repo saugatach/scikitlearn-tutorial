{
  "nbformat": 4,
  "nbformat_minor": 0,
  "metadata": {
    "colab": {
      "name": "mytutorial-scikitlearn-SGDClassifier.ipynb",
      "version": "0.3.2",
      "provenance": [],
      "collapsed_sections": []
    },
    "kernelspec": {
      "name": "python3",
      "display_name": "Python 3"
    }
  },
  "cells": [
    {
      "cell_type": "markdown",
      "metadata": {
        "id": "GP-NASBH4SqU",
        "colab_type": "text"
      },
      "source": [
        "# Simple example to illustrate SGDClassifier"
      ]
    },
    {
      "cell_type": "markdown",
      "metadata": {
        "id": "DPi75Gop4Y17",
        "colab_type": "text"
      },
      "source": [
        "A series of points on the 2D plane are labeled by the colors ['red', 'green', 'blue']"
      ]
    },
    {
      "cell_type": "code",
      "metadata": {
        "id": "gUSVgNGa38-1",
        "colab_type": "code",
        "colab": {
          "base_uri": "https://localhost:8080/",
          "height": 269
        },
        "outputId": "5950f667-c78d-43cc-dcae-72ee01fb6cfd"
      },
      "source": [
        "import matplotlib.pyplot as plt\n",
        "import numpy as np\n",
        "\n",
        "X = np.array([[-1, -1], [-2, -1], [1, 1], [2, 1],[-1.5,0.5],[-1,0.75]])\n",
        "Y = np.array([1, 1, 2, 2, 3, 3])\n",
        "cols = ['red', 'green', 'blue']\n",
        "\n",
        "plt.scatter(X[:,0][Y==1],X[:,1][Y==1],c=cols[0])\n",
        "plt.scatter(X[:,0][Y==2],X[:,1][Y==2],c=cols[1])\n",
        "plt.scatter(X[:,0][Y==3],X[:,1][Y==3],c=cols[2])\n",
        "plt.show()"
      ],
      "execution_count": 4,
      "outputs": [
        {
          "output_type": "display_data",
          "data": {
            "image/png": "[encoded data removed]",
            "text/plain": [
              "<Figure size 432x288 with 1 Axes>"
            ]
          },
          "metadata": {
            "tags": []
          }
        }
      ]
    },
    {
      "cell_type": "markdown",
      "metadata": {
        "id": "A0NXoGb55CAh",
        "colab_type": "text"
      },
      "source": [
        "We need to segregate the points in their own colored groups. This is what the SGDClassifier does. It classifies each point to their own group. We labeled the colors with numerical values in Y. \n",
        "red is Y=1, blue is Y=2, green is Y=3."
      ]
    },
    {
      "cell_type": "code",
      "metadata": {
        "id": "LgcVLT6o4zW3",
        "colab_type": "code",
        "colab": {}
      },
      "source": [
        "# import the classifier\n",
        "from sklearn import linear_model\n",
        "\n",
        "# set up the SGDClassifier object by passing tunable parameters to the constructor\n",
        "clf = linear_model.SGDClassifier(max_iter=1000, tol=1e-3)"
      ],
      "execution_count": 0,
      "outputs": []
    },
    {
      "cell_type": "markdown",
      "metadata": {
        "id": "E1UHKQI16DWH",
        "colab_type": "text"
      },
      "source": [
        "We can set the tolerance to 0.001 (=10^-3=1e-3). If the SVM cost function has a value below that then we are satisfied with the support vector decision boundary (the plane with separates two classes of points). Now we fit the model."
      ]
    },
    {
      "cell_type": "code",
      "metadata": {
        "id": "FNUEh1bF6CcV",
        "colab_type": "code",
        "colab": {
          "base_uri": "https://localhost:8080/",
          "height": 119
        },
        "outputId": "4efaf905-ae0d-4607-8b6e-a8d9f63cacc1"
      },
      "source": [
        "clf.fit(X,Y)"
      ],
      "execution_count": 6,
      "outputs": [
        {
          "output_type": "execute_result",
          "data": {
            "text/plain": [
              "SGDClassifier(alpha=0.0001, average=False, class_weight=None,\n",
              "              early_stopping=False, epsilon=0.1, eta0=0.0, fit_intercept=True,\n",
              "              l1_ratio=0.15, learning_rate='optimal', loss='hinge',\n",
              "              max_iter=1000, n_iter_no_change=5, n_jobs=None, penalty='l2',\n",
              "              power_t=0.5, random_state=None, shuffle=True, tol=0.001,\n",
              "              validation_fraction=0.1, verbose=0, warm_start=False)"
            ]
          },
          "metadata": {
            "tags": []
          },
          "execution_count": 6
        }
      ]
    },
    {
      "cell_type": "markdown",
      "metadata": {
        "id": "pc6hvCar6wKT",
        "colab_type": "text"
      },
      "source": [
        "clf.fit() generates 3 different hyperplanes which separates the classes. \n",
        "The coefficients and intercept of the hyperplane are stored in clf.coef_ and intercept_. \n",
        "There are 2 coefficients and 1 intercept for each hyperplane. There are 3 decision boundaries separating 3 color classes. \n",
        "Therefore, clf.coef_ is an array of size 3x2 (3 color classes and 2 intercepts). clf.intercept_ is an array of size 3x1."
      ]
    },
    {
      "cell_type": "code",
      "metadata": {
        "id": "Qguf4BD46sFg",
        "colab_type": "code",
        "colab": {
          "base_uri": "https://localhost:8080/",
          "height": 68
        },
        "outputId": "2e0681b4-f82e-43a6-e42d-01bb91326e90"
      },
      "source": [
        "clf.coef_"
      ],
      "execution_count": 7,
      "outputs": [
        {
          "output_type": "execute_result",
          "data": {
            "text/plain": [
              "array([[ -4.77554919, -23.87774594],\n",
              "       [ 19.21229587,   2.40153698],\n",
              "       [-18.77934272,  25.82159624]])"
            ]
          },
          "metadata": {
            "tags": []
          },
          "execution_count": 7
        }
      ]
    },
    {
      "cell_type": "code",
      "metadata": {
        "id": "ljmLqNa67hwD",
        "colab_type": "code",
        "colab": {
          "base_uri": "https://localhost:8080/",
          "height": 34
        },
        "outputId": "0b636578-3441-4fdd-b0d2-0fbaac866773"
      },
      "source": [
        " clf.intercept_"
      ],
      "execution_count": 10,
      "outputs": [
        {
          "output_type": "execute_result",
          "data": {
            "text/plain": [
              "array([-10.0098909 ,  -0.04975124, -19.92820012])"
            ]
          },
          "metadata": {
            "tags": []
          },
          "execution_count": 10
        }
      ]
    },
    {
      "cell_type": "markdown",
      "metadata": {
        "id": "TMU2n2KH75XL",
        "colab_type": "text"
      },
      "source": [
        "The coefficients of the first hyperplane is (-4.77554919, -23.87774594) with intercept -10.0098909"
      ]
    },
    {
      "cell_type": "markdown",
      "metadata": {
        "id": "Xp8jx4ww7-GA",
        "colab_type": "text"
      },
      "source": [
        "## Plotting the decision boundaries"
      ]
    },
    {
      "cell_type": "code",
      "metadata": {
        "id": "fDmDGNXF7l4h",
        "colab_type": "code",
        "colab": {
          "base_uri": "https://localhost:8080/",
          "height": 773
        },
        "outputId": "89f36bb7-d6fb-4574-ae87-2df754526888"
      },
      "source": [
        "x = np.array([-2.5, 2.5])\n",
        "\n",
        "for i in range(3):\n",
        "  plt.scatter(X[:,0][Y==1],X[:,1][Y==1],c=cols[0])\n",
        "  plt.scatter(X[:,0][Y==2],X[:,1][Y==2],c=cols[1])\n",
        "  plt.scatter(X[:,0][Y==3],X[:,1][Y==3],c=cols[2])\n",
        "\n",
        "  y = -(x*clf.coef_[i,0] + clf.intercept_[i])/clf.coef_[i,1]\n",
        "  \n",
        "  plt.plot(x,y,c='orange')\n",
        "\n",
        "  plt.xlim(-2.5,2.5)\n",
        "  plt.ylim(-1.5,1.5)\n",
        "  plt.show()"
      ],
      "execution_count": 13,
      "outputs": [
        {
          "output_type": "display_data",
          "data": {
            "image/png": "[encoded data removed]",
            "text/plain": [
              "<Figure size 432x288 with 1 Axes>"
            ]
          },
          "metadata": {
            "tags": []
          }
        },
        {
          "output_type": "display_data",
          "data": {
            "image/png": "[encoded data removed]",
            "text/plain": [
              "<Figure size 432x288 with 1 Axes>"
            ]
          },
          "metadata": {
            "tags": []
          }
        },
        {
          "output_type": "display_data",
          "data": {
            "image/png": "[encoded data removed]",
            "text/plain": [
              "<Figure size 432x288 with 1 Axes>"
            ]
          },
          "metadata": {
            "tags": []
          }
        }
      ]
    },
    {
      "cell_type": "markdown",
      "metadata": {
        "id": "rD73vMze8OOl",
        "colab_type": "text"
      },
      "source": [
        "The equation of a 2D hyperplane is:\n",
        "m1*x + m2*y + c = 0\n",
        "or \n",
        "y = - (m1*x + c)/m2.\n",
        "A straight is plotted using plt.plot(x,y) where x = list of x-coord and y=list of y-coord.\n",
        "The line starts at x= -2.5 and ends at x=2.5. The y-coordinate is calculated from clf.coef_\n"
      ]
    },
    {
      "cell_type": "markdown",
      "metadata": {
        "id": "JX6UYkqF-Mks",
        "colab_type": "text"
      },
      "source": [
        "### Plotting all decision boundaries"
      ]
    },
    {
      "cell_type": "code",
      "metadata": {
        "id": "N7VUoG5W8gZL",
        "colab_type": "code",
        "colab": {
          "base_uri": "https://localhost:8080/",
          "height": 269
        },
        "outputId": "10d9f071-2fa8-4da5-a4b7-ce20c5dd5037"
      },
      "source": [
        "plt.scatter(X[:,0][Y==1],X[:,1][Y==1],c=cols[0])\n",
        "plt.scatter(X[:,0][Y==2],X[:,1][Y==2],c=cols[1])\n",
        "plt.scatter(X[:,0][Y==3],X[:,1][Y==3],c=cols[2])\n",
        "\n",
        "x = np.array([-2.5, 2.5])\n",
        "y = np.zeros((3,2))\n",
        "for i in range(3):\n",
        "  y[i] = -(x*clf.coef_[i,0] + clf.intercept_[i])/clf.coef_[i,1]\n",
        "  \n",
        "plt.plot(x,y[0],c='orange')\n",
        "plt.plot(x,y[1],c='magenta')\n",
        "plt.plot(x,y[2],c='cyan')\n",
        "plt.xlim(-2.5,2.5)\n",
        "plt.ylim(-1.5,1.5)\n",
        "plt.show()"
      ],
      "execution_count": 39,
      "outputs": [
        {
          "output_type": "display_data",
          "data": {
            "image/png": "[encoded data removed]",
            "text/plain": [
              "<Figure size 432x288 with 1 Axes>"
            ]
          },
          "metadata": {
            "tags": []
          }
        }
      ]
    },
    {
      "cell_type": "markdown",
      "metadata": {
        "id": "UppUXl97Ats0",
        "colab_type": "text"
      },
      "source": [
        "## Predict the class"
      ]
    },
    {
      "cell_type": "markdown",
      "metadata": {
        "id": "y_9ebttUA1Pf",
        "colab_type": "text"
      },
      "source": [
        "Let's say we have a point at (1,0) whose class we want to predict. By inspecting the above plot of the colored points it is clear that is a green point. Let's test our intuition."
      ]
    },
    {
      "cell_type": "code",
      "metadata": {
        "id": "c7tEBfG9-9Dl",
        "colab_type": "code",
        "colab": {
          "base_uri": "https://localhost:8080/",
          "height": 34
        },
        "outputId": "1a31f174-0ce4-43f5-b4a4-02251bc7b3fd"
      },
      "source": [
        "# remind ourselves of the numerical values assigned to the colors\n",
        "# Y = np.array([1, 1, 2, 2, 3, 3])\n",
        "# cols = ['red', 'green', 'blue']\n",
        "p = [[1,0]]\n",
        "clf.predict(p)"
      ],
      "execution_count": 41,
      "outputs": [
        {
          "output_type": "execute_result",
          "data": {
            "text/plain": [
              "array([2])"
            ]
          },
          "metadata": {
            "tags": []
          },
          "execution_count": 41
        }
      ]
    },
    {
      "cell_type": "markdown",
      "metadata": {
        "id": "T3m7Wew1Bvad",
        "colab_type": "text"
      },
      "source": [
        "2 == green. So the point is correctly classified. It is important to note the dimensions of the list object passed to clf.predict(). p=[1,0] will result in an error as clf.predict() expects a list of points not just one point."
      ]
    },
    {
      "cell_type": "code",
      "metadata": {
        "id": "1mBz7GjpBdLx",
        "colab_type": "code",
        "colab": {}
      },
      "source": [
        "# test other points here"
      ],
      "execution_count": 0,
      "outputs": []
    }
  ]
}