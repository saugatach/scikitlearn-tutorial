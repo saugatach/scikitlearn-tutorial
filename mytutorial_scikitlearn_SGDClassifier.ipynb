{
  "nbformat": 4,
  "nbformat_minor": 0,
  "metadata": {
    "colab": {
      "name": "mytutorial-scikitlearn-SGDClassifier.ipynb",
      "version": "0.3.2",
      "provenance": [],
      "collapsed_sections": [
        "_5yu5pA7X7P-"
      ]
    },
    "kernelspec": {
      "name": "python3",
      "display_name": "Python 3"
    }
  },
  "cells": [
    {
      "cell_type": "markdown",
      "metadata": {
        "id": "GP-NASBH4SqU",
        "colab_type": "text"
      },
      "source": [
        "# Simple example to illustrate SGDClassifier"
      ]
    },
    {
      "cell_type": "markdown",
      "metadata": {
        "id": "DPi75Gop4Y17",
        "colab_type": "text"
      },
      "source": [
        "A series of points on the 2D plane are labeled by the colors ['red', 'green', 'blue']"
      ]
    },
    {
      "cell_type": "code",
      "metadata": {
        "id": "gUSVgNGa38-1",
        "colab_type": "code",
        "colab": {
          "base_uri": "https://localhost:8080/",
          "height": 269
        },
        "outputId": "c001153f-d110-4000-a7db-fa5b4fbbdbc0"
      },
      "source": [
        "import matplotlib.pyplot as plt\n",
        "import numpy as np\n",
        "\n",
        "X = np.array([[-1, -1], [-2, -1], [1, 1], [2, 1],[-1.5,0.5],[-1,0.75]])\n",
        "Y = np.array([1, 1, 2, 2, 3, 3])\n",
        "cols = ['red', 'green', 'blue']\n",
        "\n",
        "plt.scatter(X[:,0][Y==1],X[:,1][Y==1],c=cols[0])\n",
        "plt.scatter(X[:,0][Y==2],X[:,1][Y==2],c=cols[1])\n",
        "plt.scatter(X[:,0][Y==3],X[:,1][Y==3],c=cols[2])\n",
        "plt.show()"
      ],
      "execution_count": 1,
      "outputs": [
        {
          "output_type": "display_data",
          "data": {
            "image/png": "[encoded data removed]",
            "text/plain": [
              "<Figure size 432x288 with 1 Axes>"
            ]
          },
          "metadata": {
            "tags": []
          }
        }
      ]
    },
    {
      "cell_type": "markdown",
      "metadata": {
        "id": "A0NXoGb55CAh",
        "colab_type": "text"
      },
      "source": [
        "We need to segregate the points in their own colored groups. This is what the SGDClassifier does. It classifies each point to their own group. We labeled the colors with numerical values in Y. \n",
        "red is Y=1, blue is Y=2, green is Y=3."
      ]
    },
    {
      "cell_type": "markdown",
      "metadata": {
        "id": "h0Ku-ZhgOyy4",
        "colab_type": "text"
      },
      "source": [
        "## Train the SGD Classifier"
      ]
    },
    {
      "cell_type": "code",
      "metadata": {
        "id": "LgcVLT6o4zW3",
        "colab_type": "code",
        "colab": {}
      },
      "source": [
        "# import the classifier\n",
        "from sklearn import linear_model\n",
        "\n",
        "# set up the SGDClassifier object by passing tunable parameters to the constructor\n",
        "clf = linear_model.SGDClassifier(max_iter=1000, tol=1e-3)"
      ],
      "execution_count": 0,
      "outputs": []
    },
    {
      "cell_type": "markdown",
      "metadata": {
        "id": "E1UHKQI16DWH",
        "colab_type": "text"
      },
      "source": [
        "We can set the tolerance to 0.001 (=10^-3=1e-3). If the SVM cost function has a value below that then we are satisfied with the support vector decision boundary (the plane with separates two classes of points). Now we fit the model."
      ]
    },
    {
      "cell_type": "code",
      "metadata": {
        "id": "FNUEh1bF6CcV",
        "colab_type": "code",
        "colab": {
          "base_uri": "https://localhost:8080/",
          "height": 119
        },
        "outputId": "69fb7f5e-aed8-49d3-8aec-b89d044e429e"
      },
      "source": [
        "clf.fit(X,Y)"
      ],
      "execution_count": 3,
      "outputs": [
        {
          "output_type": "execute_result",
          "data": {
            "text/plain": [
              "SGDClassifier(alpha=0.0001, average=False, class_weight=None,\n",
              "              early_stopping=False, epsilon=0.1, eta0=0.0, fit_intercept=True,\n",
              "              l1_ratio=0.15, learning_rate='optimal', loss='hinge',\n",
              "              max_iter=1000, n_iter_no_change=5, n_jobs=None, penalty='l2',\n",
              "              power_t=0.5, random_state=None, shuffle=True, tol=0.001,\n",
              "              validation_fraction=0.1, verbose=0, warm_start=False)"
            ]
          },
          "metadata": {
            "tags": []
          },
          "execution_count": 3
        }
      ]
    },
    {
      "cell_type": "markdown",
      "metadata": {
        "id": "pc6hvCar6wKT",
        "colab_type": "text"
      },
      "source": [
        "clf.fit() generates 3 different hyperplanes which separates the classes. \n",
        "The coefficients and intercept of the hyperplane are stored in clf.coef_ and intercept_. \n",
        "There are 2 coefficients and 1 intercept for each hyperplane. There are 3 decision boundaries separating 3 color classes. \n",
        "Therefore, clf.coef_ is an array of size 3x2 (3 color classes and 2 intercepts). clf.intercept_ is an array of size 3x1."
      ]
    },
    {
      "cell_type": "code",
      "metadata": {
        "id": "Qguf4BD46sFg",
        "colab_type": "code",
        "colab": {
          "base_uri": "https://localhost:8080/",
          "height": 68
        },
        "outputId": "50fe792b-f4cf-458c-9ad2-f3fea2918926"
      },
      "source": [
        "clf.coef_"
      ],
      "execution_count": 4,
      "outputs": [
        {
          "output_type": "execute_result",
          "data": {
            "text/plain": [
              "array([[  4.80307397, -21.61383285],\n",
              "       [ 24.01536984,   4.80307397],\n",
              "       [-18.99335233,  26.11585945]])"
            ]
          },
          "metadata": {
            "tags": []
          },
          "execution_count": 4
        }
      ]
    },
    {
      "cell_type": "code",
      "metadata": {
        "id": "ljmLqNa67hwD",
        "colab_type": "code",
        "colab": {
          "base_uri": "https://localhost:8080/",
          "height": 34
        },
        "outputId": "8c926a05-611a-4294-b512-c649b0a35216"
      },
      "source": [
        " clf.intercept_"
      ],
      "execution_count": 5,
      "outputs": [
        {
          "output_type": "execute_result",
          "data": {
            "text/plain": [
              "array([ -9.91040812,  -0.02991027, -20.01880362])"
            ]
          },
          "metadata": {
            "tags": []
          },
          "execution_count": 5
        }
      ]
    },
    {
      "cell_type": "code",
      "metadata": {
        "id": "UTJwZXPOU390",
        "colab_type": "code",
        "colab": {
          "base_uri": "https://localhost:8080/",
          "height": 68
        },
        "outputId": "2be410e1-616d-41e1-af7c-afafd264789e"
      },
      "source": [
        "for i in range(3):\n",
        "  print(\"The equation of the hyperplane #\", i+1, \"is: \", np.round(clf.coef_[i,0],2),\" x + \",np.round(clf.coef_[i,1],2),\" y +  \",np.round(clf.intercept_[i],2),\" = 0\")"
      ],
      "execution_count": 6,
      "outputs": [
        {
          "output_type": "stream",
          "text": [
            "The equation of the hyperplane # 1 is:  4.8  x +  -21.61  y +   -9.91  = 0\n",
            "The equation of the hyperplane # 2 is:  24.02  x +  4.8  y +   -0.03  = 0\n",
            "The equation of the hyperplane # 3 is:  -18.99  x +  26.12  y +   -20.02  = 0\n"
          ],
          "name": "stdout"
        }
      ]
    },
    {
      "cell_type": "markdown",
      "metadata": {
        "id": "Xp8jx4ww7-GA",
        "colab_type": "text"
      },
      "source": [
        "## Plotting the decision boundaries"
      ]
    },
    {
      "cell_type": "code",
      "metadata": {
        "id": "fDmDGNXF7l4h",
        "colab_type": "code",
        "colab": {
          "base_uri": "https://localhost:8080/",
          "height": 773
        },
        "outputId": "9664e7c7-2303-4caa-e5ef-acb740d5b223"
      },
      "source": [
        "x = np.array([-2.5, 2.5])\n",
        "\n",
        "for i in range(3):\n",
        "  # the following line can easily be looped but we kept it for code readability \n",
        "  plt.scatter(X[:,0][Y==1],X[:,1][Y==1],c=cols[0])\n",
        "  plt.scatter(X[:,0][Y==2],X[:,1][Y==2],c=cols[1])\n",
        "  plt.scatter(X[:,0][Y==3],X[:,1][Y==3],c=cols[2])\n",
        "\n",
        "  y = -(x*clf.coef_[i,0] + clf.intercept_[i])/clf.coef_[i,1]\n",
        "  \n",
        "  plt.plot(x,y,c='orange')\n",
        "\n",
        "  plt.xlim(-2.5,2.5)\n",
        "  plt.ylim(-1.5,1.5)\n",
        "  plt.show()"
      ],
      "execution_count": 7,
      "outputs": [
        {
          "output_type": "display_data",
          "data": {
            "image/png": "[encoded data removed]",
            "text/plain": [
              "<Figure size 432x288 with 1 Axes>"
            ]
          },
          "metadata": {
            "tags": []
          }
        },
        {
          "output_type": "display_data",
          "data": {
            "image/png": "[encoded data removed]",
            "text/plain": [
              "<Figure size 432x288 with 1 Axes>"
            ]
          },
          "metadata": {
            "tags": []
          }
        },
        {
          "output_type": "display_data",
          "data": {
            "image/png": "[encoded data removed]",
            "text/plain": [
              "<Figure size 432x288 with 1 Axes>"
            ]
          },
          "metadata": {
            "tags": []
          }
        }
      ]
    },
    {
      "cell_type": "markdown",
      "metadata": {
        "id": "rD73vMze8OOl",
        "colab_type": "text"
      },
      "source": [
        "The equation of a 2D hyperplane is:\n",
        "m1 x + m2 y + c = 0\n",
        "or \n",
        "y = - (m1 x + c)/m2.\n",
        "A straight is plotted using plt.plot(x,y) where x = list of x-coord and y=list of y-coord.\n",
        "The line starts at x= -2.5 and ends at x=2.5. The y-coordinate is calculated from clf.coef_\n"
      ]
    },
    {
      "cell_type": "markdown",
      "metadata": {
        "id": "JX6UYkqF-Mks",
        "colab_type": "text"
      },
      "source": [
        "### Plotting all decision boundaries"
      ]
    },
    {
      "cell_type": "code",
      "metadata": {
        "id": "N7VUoG5W8gZL",
        "colab_type": "code",
        "colab": {
          "base_uri": "https://localhost:8080/",
          "height": 269
        },
        "outputId": "48bbf928-80dd-45df-9a4c-2f823493cd61"
      },
      "source": [
        "for i in range(3):\n",
        "  plt.scatter(X[:,0][Y==i+1],X[:,1][Y==i+1],c=cols[i])\n",
        "\n",
        "x = np.array([-2.5, 2.5])\n",
        "y = np.zeros((3,2))\n",
        "for i in range(3):\n",
        "  y[i] = -(x*clf.coef_[i,0] + clf.intercept_[i])/clf.coef_[i,1]\n",
        "  \n",
        "plt.plot(x,y[0],c='orange')\n",
        "plt.plot(x,y[1],c='magenta')\n",
        "plt.plot(x,y[2],c='cyan')\n",
        "plt.xlim(-2.5,2.5)\n",
        "plt.ylim(-1.5,1.5)\n",
        "plt.show()"
      ],
      "execution_count": 8,
      "outputs": [
        {
          "output_type": "display_data",
          "data": {
            "image/png": "[encoded data removed]",
            "text/plain": [
              "<Figure size 432x288 with 1 Axes>"
            ]
          },
          "metadata": {
            "tags": []
          }
        }
      ]
    },
    {
      "cell_type": "markdown",
      "metadata": {
        "id": "UppUXl97Ats0",
        "colab_type": "text"
      },
      "source": [
        "## Predict the class"
      ]
    },
    {
      "cell_type": "markdown",
      "metadata": {
        "id": "y_9ebttUA1Pf",
        "colab_type": "text"
      },
      "source": [
        "Let's say we have a point at (1,0.5) whose class we want to predict. By inspecting the above plot of the colored points it is clear that is a green point. Let's test our intuition."
      ]
    },
    {
      "cell_type": "code",
      "metadata": {
        "id": "c7tEBfG9-9Dl",
        "colab_type": "code",
        "colab": {
          "base_uri": "https://localhost:8080/",
          "height": 34
        },
        "outputId": "0a5b644f-1afd-4977-b325-412ac8e56c51"
      },
      "source": [
        "# remind ourselves of the numerical values assigned to the colors\n",
        "# Y = np.array([1, 1, 2, 2, 3, 3])\n",
        "# cols = ['red', 'green', 'blue']\n",
        "p = [[1,0.5]]\n",
        "clf.predict(p)"
      ],
      "execution_count": 9,
      "outputs": [
        {
          "output_type": "execute_result",
          "data": {
            "text/plain": [
              "array([2])"
            ]
          },
          "metadata": {
            "tags": []
          },
          "execution_count": 9
        }
      ]
    },
    {
      "cell_type": "markdown",
      "metadata": {
        "id": "T3m7Wew1Bvad",
        "colab_type": "text"
      },
      "source": [
        "2 == green. So the point is correctly classified. It is important to note the dimensions of the list object passed to clf.predict(). p=[1,0] will result in an error as clf.predict() expects a list of points not just one point."
      ]
    },
    {
      "cell_type": "code",
      "metadata": {
        "id": "1mBz7GjpBdLx",
        "colab_type": "code",
        "colab": {}
      },
      "source": [
        "# test other points here"
      ],
      "execution_count": 0,
      "outputs": []
    },
    {
      "cell_type": "markdown",
      "metadata": {
        "id": "gg8Z1i-BFzgF",
        "colab_type": "text"
      },
      "source": [
        "# Classifying petals from Iris dataset"
      ]
    },
    {
      "cell_type": "code",
      "metadata": {
        "id": "FYWHqD85F6Tq",
        "colab_type": "code",
        "colab": {}
      },
      "source": [
        "# import Iris dataset\n",
        "from sklearn import datasets\n",
        "\n",
        "import numpy as np\n",
        "np.set_printoptions(suppress=True) # to prevent numpy printing values in exponential notation\n",
        "import matplotlib.pyplot as plt\n",
        "\n",
        "# load the iris dataset\n",
        "iris = datasets.load_iris()\n",
        "x_iris, y_iris = iris.data, iris.target"
      ],
      "execution_count": 0,
      "outputs": []
    },
    {
      "cell_type": "code",
      "metadata": {
        "id": "IzpWL9j8GDoO",
        "colab_type": "code",
        "colab": {
          "base_uri": "https://localhost:8080/",
          "height": 34
        },
        "outputId": "6b1a7ebe-b5ba-4b62-9e64-6fd29d4861b6"
      },
      "source": [
        "# list contents of the Iris dataset\n",
        "dir(iris)"
      ],
      "execution_count": 12,
      "outputs": [
        {
          "output_type": "execute_result",
          "data": {
            "text/plain": [
              "['DESCR', 'data', 'feature_names', 'filename', 'target', 'target_names']"
            ]
          },
          "metadata": {
            "tags": []
          },
          "execution_count": 12
        }
      ]
    },
    {
      "cell_type": "code",
      "metadata": {
        "id": "9L41ReXaGD_J",
        "colab_type": "code",
        "colab": {
          "base_uri": "https://localhost:8080/",
          "height": 85
        },
        "outputId": "2c40ca36-4e19-4ca7-c80d-2e53b4825ca2"
      },
      "source": [
        "# petals will be classified based on these features \n",
        "iris.feature_names"
      ],
      "execution_count": 13,
      "outputs": [
        {
          "output_type": "execute_result",
          "data": {
            "text/plain": [
              "['sepal length (cm)',\n",
              " 'sepal width (cm)',\n",
              " 'petal length (cm)',\n",
              " 'petal width (cm)']"
            ]
          },
          "metadata": {
            "tags": []
          },
          "execution_count": 13
        }
      ]
    },
    {
      "cell_type": "markdown",
      "metadata": {
        "id": "8LE0QA2qHkrR",
        "colab_type": "text"
      },
      "source": [
        "## Data scaling"
      ]
    },
    {
      "cell_type": "markdown",
      "metadata": {
        "id": "52Qz8lNqHqEr",
        "colab_type": "text"
      },
      "source": [
        "The data needs to be scaled(normalized) before it can be used in a classifier."
      ]
    },
    {
      "cell_type": "code",
      "metadata": {
        "id": "N-sH0GmqIMIX",
        "colab_type": "code",
        "colab": {}
      },
      "source": [
        "# to normalize (scale) data sets\n",
        "from sklearn import preprocessing"
      ],
      "execution_count": 0,
      "outputs": []
    },
    {
      "cell_type": "markdown",
      "metadata": {
        "id": "o377Pj8vH8GQ",
        "colab_type": "text"
      },
      "source": [
        "### Normalize data by converting everything to their z-scores (also called scaling) "
      ]
    },
    {
      "cell_type": "markdown",
      "metadata": {
        "id": "-t0_tcvAH5PZ",
        "colab_type": "text"
      },
      "source": [
        "Normalize using full data set. If normalized with the training set only then the scaled data will be different as as the mean and std of the training data is different form the full data set. However, it does affect the result since the relative scaling diffences do not affect the location of the decision boundary. This is why some authors get away with scaling w.r.t to the training set instead of the full dataset."
      ]
    },
    {
      "cell_type": "code",
      "metadata": {
        "id": "GwD1QmrTHcoz",
        "colab_type": "code",
        "colab": {
          "base_uri": "https://localhost:8080/",
          "height": 102
        },
        "outputId": "a8aef622-ef10-4685-e2db-f636c09a7327"
      },
      "source": [
        "scaler = preprocessing.StandardScaler().fit(x_iris)\n",
        "x_iris = scaler.transform(x_iris)\n",
        "x_iris[:5]"
      ],
      "execution_count": 15,
      "outputs": [
        {
          "output_type": "execute_result",
          "data": {
            "text/plain": [
              "array([[-0.90068117,  1.01900435, -1.34022653, -1.3154443 ],\n",
              "       [-1.14301691, -0.13197948, -1.34022653, -1.3154443 ],\n",
              "       [-1.38535265,  0.32841405, -1.39706395, -1.3154443 ],\n",
              "       [-1.50652052,  0.09821729, -1.2833891 , -1.3154443 ],\n",
              "       [-1.02184904,  1.24920112, -1.34022653, -1.3154443 ]])"
            ]
          },
          "metadata": {
            "tags": []
          },
          "execution_count": 15
        }
      ]
    },
    {
      "cell_type": "markdown",
      "metadata": {
        "id": "d5qgfq2mGRSy",
        "colab_type": "text"
      },
      "source": [
        "## Split data into training and test sets"
      ]
    },
    {
      "cell_type": "markdown",
      "metadata": {
        "id": "fG4vq7LtHokP",
        "colab_type": "text"
      },
      "source": [
        "If the SGDClassifier is trained on the full dataset, we will suffer from overfitting (high variance, see \n",
        "[this chart](https://cdn-images-1.medium.com/max/800/1*xwtSpR_zg7j7zusa4IDHNQ.png) (source: towardsdatascience.com/understanding-the-bias-variance-tradeoff-165e6942b229 ) for a concise explanation. We would want to split the dataset into a training set and a testing set both selected randomly. We run the classifier on training set and use the generated classifier to predict the values of the testing set. "
      ]
    },
    {
      "cell_type": "markdown",
      "metadata": {
        "id": "eOEA7I6DGdnz",
        "colab_type": "text"
      },
      "source": [
        "There are multiple ways to do the train-test split. The most intensive is leave one out cross-validation (LOOCV) which leaves out a single point as the test set and runs the traiing on the erst of the dataset. This is done repeatedly for every point in the dataset. It is computationally intensive. So it is better to do a 75-25 test train split used here by setting *test_size=0.25*. 75% of Iris data set is set aside as training set and the rest will be used for testing the prediction of the classifier. The training set is randomly sampled. The random seed can be set using *random_state*.\n",
        "\n",
        "\n",
        "\n",
        "\n"
      ]
    },
    {
      "cell_type": "code",
      "metadata": {
        "id": "9ZPxPalUGPdX",
        "colab_type": "code",
        "colab": {}
      },
      "source": [
        "# for splitting data set into traiing and testing sets\n",
        "from sklearn.model_selection import train_test_split\n",
        "x_train, x_test, y_train, y_test  = train_test_split(x_iris, y_iris, test_size=0.25, random_state=34)"
      ],
      "execution_count": 0,
      "outputs": []
    },
    {
      "cell_type": "markdown",
      "metadata": {
        "id": "NhGM9LmvL_Eo",
        "colab_type": "text"
      },
      "source": [
        "# Plot the data"
      ]
    },
    {
      "cell_type": "markdown",
      "metadata": {
        "id": "sn7FEm5aMCCf",
        "colab_type": "text"
      },
      "source": [
        "## Plot only first 2 features (Sepal length, Sepal width)"
      ]
    },
    {
      "cell_type": "code",
      "metadata": {
        "id": "ETlzTxUzL6-5",
        "colab_type": "code",
        "colab": {
          "base_uri": "https://localhost:8080/",
          "height": 295
        },
        "outputId": "3fd60c13-6c80-4de6-8d6d-3fc16dd847a6"
      },
      "source": [
        "cols = ['red','green','blue']\n",
        "\n",
        "for i in range(3):\n",
        "    plt.scatter(x_iris[:,0][y_iris==i], x_iris[:,1][y_iris==i], c=cols[i])\n",
        "plt.legend(iris.target_names)\n",
        "plt.xlabel(iris.feature_names[0])\n",
        "plt.ylabel(iris.feature_names[1])\n",
        "plt.title(\"Full data set - sepals\")\n",
        "plt.show()"
      ],
      "execution_count": 17,
      "outputs": [
        {
          "output_type": "display_data",
          "data": {
            "image/png": "[encoded data removed]",
            "text/plain": [
              "<Figure size 432x288 with 1 Axes>"
            ]
          },
          "metadata": {
            "tags": []
          }
        }
      ]
    },
    {
      "cell_type": "markdown",
      "metadata": {
        "id": "bCQJ434NNkNJ",
        "colab_type": "text"
      },
      "source": [
        "### Plot the train-test split"
      ]
    },
    {
      "cell_type": "code",
      "metadata": {
        "id": "uKe6PHWcME7L",
        "colab_type": "code",
        "colab": {
          "base_uri": "https://localhost:8080/",
          "height": 295
        },
        "outputId": "0e41c852-f05c-418e-bb57-e19041a709cd"
      },
      "source": [
        "for i in range(3):\n",
        "    plt.scatter(x_train[:,0][y_train==i], x_train[:,1][y_train==i], c=cols[i])\n",
        "plt.legend(iris.target_names)\n",
        "plt.xlabel(iris.feature_names[0])\n",
        "plt.ylabel(iris.feature_names[1])\n",
        "plt.title(\"Training data set - sepals\")\n",
        "plt.show()    "
      ],
      "execution_count": 18,
      "outputs": [
        {
          "output_type": "display_data",
          "data": {
            "image/png": "[encoded data removed]",
            "text/plain": [
              "<Figure size 432x288 with 1 Axes>"
            ]
          },
          "metadata": {
            "tags": []
          }
        }
      ]
    },
    {
      "cell_type": "code",
      "metadata": {
        "id": "d_JvAogPMK2f",
        "colab_type": "code",
        "colab": {
          "base_uri": "https://localhost:8080/",
          "height": 295
        },
        "outputId": "342c1fc3-de1c-49a1-ba76-29cf0c82cd31"
      },
      "source": [
        "for i in range(3):\n",
        "    plt.scatter(x_test[:,0][y_test==i], x_test[:,1][y_test==i], c=cols[i])\n",
        "plt.legend(iris.target_names)\n",
        "plt.xlabel(iris.feature_names[0])\n",
        "plt.ylabel(iris.feature_names[1])\n",
        "plt.title(\"Test data set - sepals\")\n",
        "plt.show()    "
      ],
      "execution_count": 19,
      "outputs": [
        {
          "output_type": "display_data",
          "data": {
            "image/png": "[encoded data removed]",
            "text/plain": [
              "<Figure size 432x288 with 1 Axes>"
            ]
          },
          "metadata": {
            "tags": []
          }
        }
      ]
    },
    {
      "cell_type": "markdown",
      "metadata": {
        "id": "l0lV3cfrNaQQ",
        "colab_type": "text"
      },
      "source": [
        "## Plot only last 2 features (Petal length, Petal width)"
      ]
    },
    {
      "cell_type": "code",
      "metadata": {
        "id": "0HjKBfCuMZry",
        "colab_type": "code",
        "colab": {
          "base_uri": "https://localhost:8080/",
          "height": 295
        },
        "outputId": "ff1b9a6e-d5bf-4992-b43d-6febe120126e"
      },
      "source": [
        "for i in range(3):\n",
        "    plt.scatter(x_iris[:,2][y_iris==i], x_iris[:,3][y_iris==i], c=cols[i])\n",
        "plt.legend(iris.target_names)\n",
        "plt.xlabel(iris.feature_names[2])\n",
        "plt.ylabel(iris.feature_names[3])\n",
        "plt.title(\"Full data set - petals\")\n",
        "plt.show()"
      ],
      "execution_count": 20,
      "outputs": [
        {
          "output_type": "display_data",
          "data": {
            "image/png": "[encoded data removed]",
            "text/plain": [
              "<Figure size 432x288 with 1 Axes>"
            ]
          },
          "metadata": {
            "tags": []
          }
        }
      ]
    },
    {
      "cell_type": "markdown",
      "metadata": {
        "id": "C0wJrjYlNtd3",
        "colab_type": "text"
      },
      "source": [
        "### Plot the train-test split"
      ]
    },
    {
      "cell_type": "code",
      "metadata": {
        "id": "z_fmP4sXN8U8",
        "colab_type": "code",
        "colab": {
          "base_uri": "https://localhost:8080/",
          "height": 295
        },
        "outputId": "ef51a677-0d1c-4db4-e60b-178179f4d867"
      },
      "source": [
        "for i in range(3):\n",
        "    plt.scatter(x_train[:,2][y_train==i], x_train[:,3][y_train==i], c=cols[i])\n",
        "plt.legend(iris.target_names)\n",
        "plt.xlabel(iris.feature_names[2])\n",
        "plt.ylabel(iris.feature_names[3])\n",
        "plt.title(\"Training data set - petals\")\n",
        "plt.show()    "
      ],
      "execution_count": 21,
      "outputs": [
        {
          "output_type": "display_data",
          "data": {
            "image/png": "[encoded data removed]",
            "text/plain": [
              "<Figure size 432x288 with 1 Axes>"
            ]
          },
          "metadata": {
            "tags": []
          }
        }
      ]
    },
    {
      "cell_type": "code",
      "metadata": {
        "id": "fkFNtjhgNvhN",
        "colab_type": "code",
        "colab": {
          "base_uri": "https://localhost:8080/",
          "height": 295
        },
        "outputId": "d4a67b6f-ad52-459e-cdf0-55945e5b95bc"
      },
      "source": [
        "for i in range(3):\n",
        "    plt.scatter(x_test[:,2][y_test==i], x_test[:,3][y_test==i], c=cols[i])\n",
        "plt.legend(iris.target_names)\n",
        "plt.xlabel(iris.feature_names[2])\n",
        "plt.ylabel(iris.feature_names[3])\n",
        "plt.title(\"Test data set - petals\")\n",
        "plt.show()    "
      ],
      "execution_count": 22,
      "outputs": [
        {
          "output_type": "display_data",
          "data": {
            "image/png": "[encoded data removed]",
            "text/plain": [
              "<Figure size 432x288 with 1 Axes>"
            ]
          },
          "metadata": {
            "tags": []
          }
        }
      ]
    },
    {
      "cell_type": "markdown",
      "metadata": {
        "id": "zJu_Unh6OgHY",
        "colab_type": "text"
      },
      "source": [
        "# Train the SGD Classifier"
      ]
    },
    {
      "cell_type": "code",
      "metadata": {
        "id": "WRdDcB1TMpjO",
        "colab_type": "code",
        "colab": {}
      },
      "source": [
        "# import the classifier\n",
        "from sklearn import linear_model\n",
        "\n",
        "# set up the SGDClassifier object by passing tunable parameters to the constructor\n",
        "clf = linear_model.SGDClassifier(max_iter=1000, tol=1e-3)"
      ],
      "execution_count": 0,
      "outputs": []
    },
    {
      "cell_type": "markdown",
      "metadata": {
        "id": "8FHSw7KGVazh",
        "colab_type": "text"
      },
      "source": [
        "## Train classifier only on sepals"
      ]
    },
    {
      "cell_type": "code",
      "metadata": {
        "id": "2rf7cLAJVhGx",
        "colab_type": "code",
        "colab": {
          "base_uri": "https://localhost:8080/",
          "height": 119
        },
        "outputId": "8611e6df-d941-4b63-d12f-88b7104f6eee"
      },
      "source": [
        "# select all rows and first 2 cols of x_train = x_train[:,:2] \n",
        "clf.fit(x_train[:,:2], y_train)"
      ],
      "execution_count": 24,
      "outputs": [
        {
          "output_type": "execute_result",
          "data": {
            "text/plain": [
              "SGDClassifier(alpha=0.0001, average=False, class_weight=None,\n",
              "              early_stopping=False, epsilon=0.1, eta0=0.0, fit_intercept=True,\n",
              "              l1_ratio=0.15, learning_rate='optimal', loss='hinge',\n",
              "              max_iter=1000, n_iter_no_change=5, n_jobs=None, penalty='l2',\n",
              "              power_t=0.5, random_state=None, shuffle=True, tol=0.001,\n",
              "              validation_fraction=0.1, verbose=0, warm_start=False)"
            ]
          },
          "metadata": {
            "tags": []
          },
          "execution_count": 24
        }
      ]
    },
    {
      "cell_type": "code",
      "metadata": {
        "id": "F7DQidZsNGCk",
        "colab_type": "code",
        "colab": {
          "base_uri": "https://localhost:8080/",
          "height": 68
        },
        "outputId": "cc0f781b-5770-4362-ba92-f8cc066381a7"
      },
      "source": [
        "clf.coef_"
      ],
      "execution_count": 25,
      "outputs": [
        {
          "output_type": "execute_result",
          "data": {
            "text/plain": [
              "array([[-21.56508834,  15.44469981],\n",
              "       [ -8.69267421,  -4.10285677],\n",
              "       [  8.30274495,  -4.90567638]])"
            ]
          },
          "metadata": {
            "tags": []
          },
          "execution_count": 25
        }
      ]
    },
    {
      "cell_type": "code",
      "metadata": {
        "id": "rsF1tE9ENHkh",
        "colab_type": "code",
        "colab": {
          "base_uri": "https://localhost:8080/",
          "height": 34
        },
        "outputId": "2c53c4e0-f59e-440f-8209-869a465ceb11"
      },
      "source": [
        "clf.intercept_"
      ],
      "execution_count": 26,
      "outputs": [
        {
          "output_type": "execute_result",
          "data": {
            "text/plain": [
              "array([-22.44541996,  -1.17007036,  -0.93079675])"
            ]
          },
          "metadata": {
            "tags": []
          },
          "execution_count": 26
        }
      ]
    },
    {
      "cell_type": "markdown",
      "metadata": {
        "id": "GQ1W7l9pPJg-",
        "colab_type": "text"
      },
      "source": [
        "One of the decision boundaries is a 4D hyperplane: - 6.89*(sepal length) + 2.77*(sepal width) - 8.23*(petal length) - 10.35*(petal width) - 19.88 = 0\n"
      ]
    },
    {
      "cell_type": "code",
      "metadata": {
        "id": "SrRcw9WRVXAC",
        "colab_type": "code",
        "colab": {
          "base_uri": "https://localhost:8080/",
          "height": 68
        },
        "outputId": "af304dad-1234-402f-f5ef-cb272e7b5816"
      },
      "source": [
        "for i in range(3):\n",
        "  print(\"The equation of the hyperplane #\", i+1, \"is: \", np.round(clf.coef_[i,0],2),\" x + \",np.round(clf.coef_[i,1],2),\" y +  \",np.round(clf.intercept_[i],2),\" = 0\")"
      ],
      "execution_count": 27,
      "outputs": [
        {
          "output_type": "stream",
          "text": [
            "The equation of the hyperplane # 1 is:  -21.57  x +  15.44  y +   -22.45  = 0\n",
            "The equation of the hyperplane # 2 is:  -8.69  x +  -4.1  y +   -1.17  = 0\n",
            "The equation of the hyperplane # 3 is:  8.3  x +  -4.91  y +   -0.93  = 0\n"
          ],
          "name": "stdout"
        }
      ]
    },
    {
      "cell_type": "code",
      "metadata": {
        "id": "aDSAuvOZPGQw",
        "colab_type": "code",
        "colab": {
          "base_uri": "https://localhost:8080/",
          "height": 295
        },
        "outputId": "f7d9149d-3f03-4375-ccd8-2502764d2742"
      },
      "source": [
        "# plot the original dataset with color coded classes\n",
        "cols = ['red','green','blue']\n",
        "\n",
        "for i in range(3):\n",
        "    plt.scatter(x_iris[:,0][y_iris==i], x_iris[:,1][y_iris==i], c=cols[i])\n",
        "\n",
        "    plt.legend(iris.target_names)\n",
        "plt.xlabel(iris.feature_names[0])\n",
        "plt.ylabel(iris.feature_names[1])\n",
        "plt.title(\"Full data set - sepals\")\n",
        "\n",
        "# define end points of x-coord of hyperplane\n",
        "x = np.array([-2.5, 2.5])\n",
        "y = np.zeros((3,2))\n",
        "for i in range(3):\n",
        "  y[i] = -(x*clf.coef_[i,0] + clf.intercept_[i])/clf.coef_[i,1]\n",
        "  \n",
        "plt.plot(x,y[0],c='orange')\n",
        "plt.plot(x,y[1],c='magenta')\n",
        "plt.plot(x,y[2],c='cyan')\n",
        "\n",
        "\n",
        "plt.xlim(x_iris[:,0].min()-0.25,x_iris[:,0].max()+0.25)\n",
        "plt.ylim(x_iris[:,1].min()-0.25,x_iris[:,1].max()+0.25)\n",
        "\n",
        "\n",
        "plt.show()"
      ],
      "execution_count": 28,
      "outputs": [
        {
          "output_type": "display_data",
          "data": {
            "image/png": "[encoded data removed]",
            "text/plain": [
              "<Figure size 432x288 with 1 Axes>"
            ]
          },
          "metadata": {
            "tags": []
          }
        }
      ]
    },
    {
      "cell_type": "markdown",
      "metadata": {
        "id": "_DJkh-hwYQTj",
        "colab_type": "text"
      },
      "source": [
        "While SGDClassifier was able to separate \"setosa\" flowers it was not able to separate the other two flowers. Not even humans can separate those intermingled categories. "
      ]
    },
    {
      "cell_type": "code",
      "metadata": {
        "id": "b71FN3wTP7zN",
        "colab_type": "code",
        "colab": {}
      },
      "source": [
        "# test code here"
      ],
      "execution_count": 0,
      "outputs": []
    },
    {
      "cell_type": "markdown",
      "metadata": {
        "id": "lMKGv7HrQbz0",
        "colab_type": "text"
      },
      "source": [
        "### Calculating Error Rate"
      ]
    },
    {
      "cell_type": "markdown",
      "metadata": {
        "id": "_5yu5pA7X7P-",
        "colab_type": "text"
      },
      "source": [
        "#### Test accuracy of predictions on the training dataset"
      ]
    },
    {
      "cell_type": "code",
      "metadata": {
        "id": "o6UP0X79YCnV",
        "colab_type": "code",
        "colab": {}
      },
      "source": [
        "# import the metrics clas to quantify the quality of predictions \n",
        "from sklearn import metrics"
      ],
      "execution_count": 0,
      "outputs": []
    },
    {
      "cell_type": "code",
      "metadata": {
        "id": "3BIOVQjqR8vR",
        "colab_type": "code",
        "colab": {
          "base_uri": "https://localhost:8080/",
          "height": 0
        },
        "outputId": "236a29dc-6a80-4891-b7af-7da35164a0e8"
      },
      "source": [
        "# try to predict y_train from x_train\n",
        "y_train_predict = clf.predict(x_train[:,:2])\n",
        "\n",
        "# calculate the accuracy score\n",
        "score_train = metrics.accuracy_score(y_train, y_train_predict)\n",
        "\n",
        "score_train"
      ],
      "execution_count": 31,
      "outputs": [
        {
          "output_type": "execute_result",
          "data": {
            "text/plain": [
              "0.7410714285714286"
            ]
          },
          "metadata": {
            "tags": []
          },
          "execution_count": 31
        }
      ]
    },
    {
      "cell_type": "markdown",
      "metadata": {
        "id": "DgQfl9ByR1Ey",
        "colab_type": "text"
      },
      "source": [
        "#### Test accuracy of predictions on the test dataset"
      ]
    },
    {
      "cell_type": "code",
      "metadata": {
        "id": "IxVR99XSRxZI",
        "colab_type": "code",
        "colab": {
          "base_uri": "https://localhost:8080/",
          "height": 34
        },
        "outputId": "39a82eae-d476-420d-8c4d-4045132e15e4"
      },
      "source": [
        "# try to predict y_test from x_test\n",
        "y_test_predict = clf.predict(x_test[:,:2])\n",
        "\n",
        "# calculate the accuracy score\n",
        "score_test = metrics.accuracy_score(y_test, y_test_predict)\n",
        "\n",
        "score_test"
      ],
      "execution_count": 32,
      "outputs": [
        {
          "output_type": "execute_result",
          "data": {
            "text/plain": [
              "0.6052631578947368"
            ]
          },
          "metadata": {
            "tags": []
          },
          "execution_count": 32
        }
      ]
    },
    {
      "cell_type": "markdown",
      "metadata": {
        "id": "zc_XJ8lVWoCq",
        "colab_type": "text"
      },
      "source": [
        "Compare the original test data with the predicted test data"
      ]
    },
    {
      "cell_type": "code",
      "metadata": {
        "id": "gAQhmGkXWaux",
        "colab_type": "code",
        "colab": {
          "base_uri": "https://localhost:8080/",
          "height": 51
        },
        "outputId": "cf4c6656-c90a-454c-ed7c-788874dc7874"
      },
      "source": [
        "# print(y_test)\n",
        "# print(y_test_predict)\n",
        "print(y_test - y_test_predict)\n",
        "# non-zero values are incorectly predicted"
      ],
      "execution_count": 33,
      "outputs": [
        {
          "output_type": "stream",
          "text": [
            "[-1  0  0  0  0  0  0  0 -1 -1 -1 -1  0 -1  0  0  0  0 -1  0  0 -1 -1  0\n",
            "  0 -1  0  0 -1  0  0 -1  0 -1  0  0 -1 -1]\n"
          ],
          "name": "stdout"
        }
      ]
    },
    {
      "cell_type": "code",
      "metadata": {
        "id": "g28wGcuSaYvc",
        "colab_type": "code",
        "colab": {
          "base_uri": "https://localhost:8080/",
          "height": 34
        },
        "outputId": "c60149bc-0015-4f77-c62a-c84fea3d0a7e"
      },
      "source": [
        "print(np.count_nonzero(y_test - y_test_predict), \"data points incorrectly classified\" )"
      ],
      "execution_count": 34,
      "outputs": [
        {
          "output_type": "stream",
          "text": [
            "15 data points incorrectly classified\n"
          ],
          "name": "stdout"
        }
      ]
    },
    {
      "cell_type": "markdown",
      "metadata": {
        "id": "J-Ow1_aWaxIo",
        "colab_type": "text"
      },
      "source": [
        "Instead of manually counting the number of data points that are incorrectly classified we should use the **Confusion Matrix**\n"
      ]
    },
    {
      "cell_type": "markdown",
      "metadata": {
        "id": "sI0KRU0qcud0",
        "colab_type": "text"
      },
      "source": [
        "#### Confusion matrix"
      ]
    },
    {
      "cell_type": "code",
      "metadata": {
        "id": "Jjd2saR1ZrhF",
        "colab_type": "code",
        "colab": {
          "base_uri": "https://localhost:8080/",
          "height": 68
        },
        "outputId": "9a3fd881-a984-4d5e-990a-69f555540463"
      },
      "source": [
        "print(metrics.confusion_matrix(y_test, y_test_predict))"
      ],
      "execution_count": 35,
      "outputs": [
        {
          "output_type": "stream",
          "text": [
            "[[13  3  0]\n",
            " [ 0  5 12]\n",
            " [ 0  0  5]]\n"
          ],
          "name": "stdout"
        }
      ]
    },
    {
      "cell_type": "markdown",
      "metadata": {
        "id": "pDyFrCOqbMte",
        "colab_type": "text"
      },
      "source": [
        "The sum of non-diagonal elements of the confusion matrix is the number of misclassifications. The columns represent predicted classes and rows are original classes. So if element (2,1) is equal to 3, it implies that 3 points which should have been classifies as \"2\" is classified as \"1\". "
      ]
    },
    {
      "cell_type": "markdown",
      "metadata": {
        "id": "xNyeK2Eec1qO",
        "colab_type": "text"
      },
      "source": [
        "#### Classification Report"
      ]
    },
    {
      "cell_type": "code",
      "metadata": {
        "id": "4uo4hPmEcAfW",
        "colab_type": "code",
        "colab": {
          "base_uri": "https://localhost:8080/",
          "height": 187
        },
        "outputId": "1b92bbf1-5e4a-4162-e2cd-0c46526ef684"
      },
      "source": [
        "print(metrics.classification_report(y_test, y_test_predict, target_names=iris.target_names))"
      ],
      "execution_count": 36,
      "outputs": [
        {
          "output_type": "stream",
          "text": [
            "              precision    recall  f1-score   support\n",
            "\n",
            "      setosa       1.00      0.81      0.90        16\n",
            "  versicolor       0.62      0.29      0.40        17\n",
            "   virginica       0.29      1.00      0.45         5\n",
            "\n",
            "    accuracy                           0.61        38\n",
            "   macro avg       0.64      0.70      0.58        38\n",
            "weighted avg       0.74      0.61      0.62        38\n",
            "\n"
          ],
          "name": "stdout"
        }
      ]
    },
    {
      "cell_type": "markdown",
      "metadata": {
        "id": "6J50hXZcdQwT",
        "colab_type": "text"
      },
      "source": [
        "Precision = TP/(TP+FP)\n",
        "Recall = TP/(TP + FN)\n",
        "Precision determines how many of the data points classified as class 1 is really class 1. If this is low then there are too many False Positives.\n",
        "Recall determines how many of the data points belonging to class 1 are correctly classified. If this is low then classifier is not working well at all."
      ]
    },
    {
      "cell_type": "markdown",
      "metadata": {
        "id": "dPz6wROCX3Pn",
        "colab_type": "text"
      },
      "source": [
        "## Train classifier only on petals"
      ]
    },
    {
      "cell_type": "code",
      "metadata": {
        "id": "z9vrdqX_UqjQ",
        "colab_type": "code",
        "colab": {
          "base_uri": "https://localhost:8080/",
          "height": 119
        },
        "outputId": "1f62a199-de17-4ab1-d9c8-fbb0315675a3"
      },
      "source": [
        "clf = linear_model.SGDClassifier(max_iter=1000, tol=1e-3)\n",
        "# select all rows and lst 2 cols of x_train = x_train[:,2:] \n",
        "clf.fit(x_train[:,2:], y_train)"
      ],
      "execution_count": 37,
      "outputs": [
        {
          "output_type": "execute_result",
          "data": {
            "text/plain": [
              "SGDClassifier(alpha=0.0001, average=False, class_weight=None,\n",
              "              early_stopping=False, epsilon=0.1, eta0=0.0, fit_intercept=True,\n",
              "              l1_ratio=0.15, learning_rate='optimal', loss='hinge',\n",
              "              max_iter=1000, n_iter_no_change=5, n_jobs=None, penalty='l2',\n",
              "              power_t=0.5, random_state=None, shuffle=True, tol=0.001,\n",
              "              validation_fraction=0.1, verbose=0, warm_start=False)"
            ]
          },
          "metadata": {
            "tags": []
          },
          "execution_count": 37
        }
      ]
    },
    {
      "cell_type": "code",
      "metadata": {
        "id": "IV9JYK1oTcR2",
        "colab_type": "code",
        "colab": {
          "base_uri": "https://localhost:8080/",
          "height": 68
        },
        "outputId": "c6541b0c-027a-460e-e7f8-90f1a9ac4ec0"
      },
      "source": [
        "clf.coef_"
      ],
      "execution_count": 38,
      "outputs": [
        {
          "output_type": "execute_result",
          "data": {
            "text/plain": [
              "array([[-8.74078657, -6.64928327],\n",
              "       [ 7.66498885, -4.52582311],\n",
              "       [21.56812502, 13.39735035]])"
            ]
          },
          "metadata": {
            "tags": []
          },
          "execution_count": 38
        }
      ]
    },
    {
      "cell_type": "code",
      "metadata": {
        "id": "rTTL3gXNTf_4",
        "colab_type": "code",
        "colab": {
          "base_uri": "https://localhost:8080/",
          "height": 34
        },
        "outputId": "23f46057-81f9-4afa-cc70-72ad79bfdbb4"
      },
      "source": [
        " clf.intercept_"
      ],
      "execution_count": 39,
      "outputs": [
        {
          "output_type": "execute_result",
          "data": {
            "text/plain": [
              "array([ -9.95012965,  -1.49600544, -23.17226566])"
            ]
          },
          "metadata": {
            "tags": []
          },
          "execution_count": 39
        }
      ]
    },
    {
      "cell_type": "code",
      "metadata": {
        "id": "vzM6F8BtTzGf",
        "colab_type": "code",
        "colab": {
          "base_uri": "https://localhost:8080/",
          "height": 68
        },
        "outputId": "73b167d7-af86-4e3f-c008-3916e7e49255"
      },
      "source": [
        "for i in range(3):\n",
        "  print(\"The equation of the hyperplane #\", i+1, \"is: \", np.round(clf.coef_[i,0],2),\" x + \",np.round(clf.coef_[i,1],2),\" y +  \",np.round(clf.intercept_[i],2),\" = 0\")"
      ],
      "execution_count": 40,
      "outputs": [
        {
          "output_type": "stream",
          "text": [
            "The equation of the hyperplane # 1 is:  -8.74  x +  -6.65  y +   -9.95  = 0\n",
            "The equation of the hyperplane # 2 is:  7.66  x +  -4.53  y +   -1.5  = 0\n",
            "The equation of the hyperplane # 3 is:  21.57  x +  13.4  y +   -23.17  = 0\n"
          ],
          "name": "stdout"
        }
      ]
    },
    {
      "cell_type": "code",
      "metadata": {
        "id": "bkcAACmaXZAk",
        "colab_type": "code",
        "colab": {
          "base_uri": "https://localhost:8080/",
          "height": 295
        },
        "outputId": "9c1baabf-dd80-43ed-8172-a66023475fae"
      },
      "source": [
        "# plot the original dataset with color coded classes\n",
        "cols = ['red','green','blue']\n",
        "\n",
        "for i in range(3):\n",
        "    plt.scatter(x_iris[:,2][y_iris==i], x_iris[:,3][y_iris==i], c=cols[i])\n",
        "\n",
        "    plt.legend(iris.target_names)\n",
        "plt.xlabel(iris.feature_names[0])\n",
        "plt.ylabel(iris.feature_names[1])\n",
        "plt.title(\"Full data set - petals\")\n",
        "\n",
        "# define end points of x-coord of hyperplane\n",
        "x = np.array([-2.5, 2.5])\n",
        "y = np.zeros((3,2))\n",
        "for i in range(3):\n",
        "  y[i] = -(x*clf.coef_[i,0] + clf.intercept_[i])/clf.coef_[i,1]\n",
        "  \n",
        "plt.plot(x,y[0],c='orange')\n",
        "plt.plot(x,y[1],c='magenta')\n",
        "plt.plot(x,y[2],c='cyan')\n",
        "\n",
        "\n",
        "plt.xlim(x_iris[:,0].min()-0.25,x_iris[:,0].max()+0.25)\n",
        "plt.ylim(x_iris[:,1].min()-0.25,x_iris[:,1].max()+0.25)\n",
        "\n",
        "\n",
        "plt.show()"
      ],
      "execution_count": 41,
      "outputs": [
        {
          "output_type": "display_data",
          "data": {
            "image/png": "[encoded data removed]",
            "text/plain": [
              "<Figure size 432x288 with 1 Axes>"
            ]
          },
          "metadata": {
            "tags": []
          }
        }
      ]
    },
    {
      "cell_type": "markdown",
      "metadata": {
        "id": "TjekWZNbX3Ps",
        "colab_type": "text"
      },
      "source": [
        "### Calculating Error Rate"
      ]
    },
    {
      "cell_type": "markdown",
      "metadata": {
        "id": "z9vu-BaYX5uz",
        "colab_type": "text"
      },
      "source": [
        "#### Test accuracy of predictions on the training dataset"
      ]
    },
    {
      "cell_type": "code",
      "metadata": {
        "id": "t7oiXnDTX8UI",
        "colab_type": "code",
        "colab": {
          "base_uri": "https://localhost:8080/",
          "height": 34
        },
        "outputId": "578f84d9-9775-4301-e48e-18ce08b5e78e"
      },
      "source": [
        "# try to predict y_train from x_train\n",
        "y_train_predict = clf.predict(x_train[:,2:])\n",
        "\n",
        "# calculate the accuracy score\n",
        "score_train = metrics.accuracy_score(y_train, y_train_predict)\n",
        "\n",
        "score_train"
      ],
      "execution_count": 42,
      "outputs": [
        {
          "output_type": "execute_result",
          "data": {
            "text/plain": [
              "0.9553571428571429"
            ]
          },
          "metadata": {
            "tags": []
          },
          "execution_count": 42
        }
      ]
    },
    {
      "cell_type": "markdown",
      "metadata": {
        "id": "jwVMF-1QYBI-",
        "colab_type": "text"
      },
      "source": [
        "#### Test accuracy of predictions on the test dataset"
      ]
    },
    {
      "cell_type": "code",
      "metadata": {
        "id": "PVX76Z8BX-3d",
        "colab_type": "code",
        "colab": {
          "base_uri": "https://localhost:8080/",
          "height": 34
        },
        "outputId": "397cb5c0-a516-47a5-903c-7692098b3ce1"
      },
      "source": [
        "# try to predict y_test from x_test\n",
        "y_test_predict = clf.predict(x_test[:,2:])\n",
        "\n",
        "# calculate the accuracy score\n",
        "score_test = metrics.accuracy_score(y_test, y_test_predict)\n",
        "\n",
        "score_test"
      ],
      "execution_count": 43,
      "outputs": [
        {
          "output_type": "execute_result",
          "data": {
            "text/plain": [
              "1.0"
            ]
          },
          "metadata": {
            "tags": []
          },
          "execution_count": 43
        }
      ]
    },
    {
      "cell_type": "markdown",
      "metadata": {
        "id": "scQdIheGYKQR",
        "colab_type": "text"
      },
      "source": [
        "Compare the original test data with the predicted test data"
      ]
    },
    {
      "cell_type": "code",
      "metadata": {
        "id": "HQOEeEnXYILK",
        "colab_type": "code",
        "colab": {
          "base_uri": "https://localhost:8080/",
          "height": 51
        },
        "outputId": "584a88c0-e8ed-4529-ca2a-101d740e29b2"
      },
      "source": [
        "print( y_test - y_test_predict)\n",
        "# non-zero values are incorectly predicted"
      ],
      "execution_count": 44,
      "outputs": [
        {
          "output_type": "stream",
          "text": [
            "[0 0 0 0 0 0 0 0 0 0 0 0 0 0 0 0 0 0 0 0 0 0 0 0 0 0 0 0 0 0 0 0 0 0 0 0 0\n",
            " 0]\n"
          ],
          "name": "stdout"
        }
      ]
    },
    {
      "cell_type": "code",
      "metadata": {
        "id": "6l8Bbz6HYOCa",
        "colab_type": "code",
        "colab": {
          "base_uri": "https://localhost:8080/",
          "height": 34
        },
        "outputId": "0cc1a236-21ff-4055-8e25-10b161e95f57"
      },
      "source": [
        "print(np.count_nonzero(y_test - y_test_predict), \"data points incorrectly classified\" )"
      ],
      "execution_count": 45,
      "outputs": [
        {
          "output_type": "stream",
          "text": [
            "0 data points incorrectly classified\n"
          ],
          "name": "stdout"
        }
      ]
    },
    {
      "cell_type": "code",
      "metadata": {
        "id": "R-Hl-BslXgcL",
        "colab_type": "code",
        "colab": {
          "base_uri": "https://localhost:8080/",
          "height": 68
        },
        "outputId": "46bdfaee-63c8-47ac-8019-6db6f4445711"
      },
      "source": [
        "print(metrics.confusion_matrix(y_test, y_test_predict))"
      ],
      "execution_count": 46,
      "outputs": [
        {
          "output_type": "stream",
          "text": [
            "[[16  0  0]\n",
            " [ 0 17  0]\n",
            " [ 0  0  5]]\n"
          ],
          "name": "stdout"
        }
      ]
    },
    {
      "cell_type": "code",
      "metadata": {
        "id": "H38zHIAPx0aZ",
        "colab_type": "code",
        "colab": {
          "base_uri": "https://localhost:8080/",
          "height": 187
        },
        "outputId": "751a636e-ab32-43ce-e53b-6159d70c4d78"
      },
      "source": [
        "print(metrics.classification_report(y_test, y_test_predict, target_names=iris.target_names))"
      ],
      "execution_count": 47,
      "outputs": [
        {
          "output_type": "stream",
          "text": [
            "              precision    recall  f1-score   support\n",
            "\n",
            "      setosa       1.00      1.00      1.00        16\n",
            "  versicolor       1.00      1.00      1.00        17\n",
            "   virginica       1.00      1.00      1.00         5\n",
            "\n",
            "    accuracy                           1.00        38\n",
            "   macro avg       1.00      1.00      1.00        38\n",
            "weighted avg       1.00      1.00      1.00        38\n",
            "\n"
          ],
          "name": "stdout"
        }
      ]
    },
    {
      "cell_type": "markdown",
      "metadata": {
        "id": "xZoUT2NOpX85",
        "colab_type": "text"
      },
      "source": [
        "## Train classifier all features"
      ]
    },
    {
      "cell_type": "code",
      "metadata": {
        "id": "Pe6ZQmIKx3P-",
        "colab_type": "code",
        "colab": {
          "base_uri": "https://localhost:8080/",
          "height": 119
        },
        "outputId": "a9d340b1-1b9a-4d60-ac29-9b4b06a00c9e"
      },
      "source": [
        "clf = linear_model.SGDClassifier()\n",
        "clf.fit(x_train, y_train)"
      ],
      "execution_count": 57,
      "outputs": [
        {
          "output_type": "execute_result",
          "data": {
            "text/plain": [
              "SGDClassifier(alpha=0.0001, average=False, class_weight=None,\n",
              "              early_stopping=False, epsilon=0.1, eta0=0.0, fit_intercept=True,\n",
              "              l1_ratio=0.15, learning_rate='optimal', loss='hinge',\n",
              "              max_iter=1000, n_iter_no_change=5, n_jobs=None, penalty='l2',\n",
              "              power_t=0.5, random_state=None, shuffle=True, tol=0.001,\n",
              "              validation_fraction=0.1, verbose=0, warm_start=False)"
            ]
          },
          "metadata": {
            "tags": []
          },
          "execution_count": 57
        }
      ]
    },
    {
      "cell_type": "code",
      "metadata": {
        "id": "0xCamZnzp24m",
        "colab_type": "code",
        "colab": {
          "base_uri": "https://localhost:8080/",
          "height": 68
        },
        "outputId": "84397e21-51b5-421e-a2ef-65a5f285542b"
      },
      "source": [
        "clf.coef_"
      ],
      "execution_count": 58,
      "outputs": [
        {
          "output_type": "execute_result",
          "data": {
            "text/plain": [
              "array([[ -4.46252953,   4.61340313, -10.65343134,  -9.60233283],\n",
              "       [ -0.6561952 ,  -0.39025588,  12.61477716,  -4.95286627],\n",
              "       [ -6.25664629,   0.74469527,  34.98503807,  26.02507663]])"
            ]
          },
          "metadata": {
            "tags": []
          },
          "execution_count": 58
        }
      ]
    },
    {
      "cell_type": "code",
      "metadata": {
        "id": "eH9JvgIpqFpx",
        "colab_type": "code",
        "colab": {
          "base_uri": "https://localhost:8080/",
          "height": 34
        },
        "outputId": "93ea70c8-26fe-42bc-d83a-9d6d6a7932fb"
      },
      "source": [
        "clf.intercept_"
      ],
      "execution_count": 59,
      "outputs": [
        {
          "output_type": "execute_result",
          "data": {
            "text/plain": [
              "array([ -9.21955504,   0.34959315, -40.92460768])"
            ]
          },
          "metadata": {
            "tags": []
          },
          "execution_count": 59
        }
      ]
    },
    {
      "cell_type": "code",
      "metadata": {
        "id": "xCBz0mTKqHjY",
        "colab_type": "code",
        "colab": {
          "base_uri": "https://localhost:8080/",
          "height": 68
        },
        "outputId": "f736f874-a783-4e8d-8045-ad46a4373870"
      },
      "source": [
        "for i in range(3):\n",
        "  print(\"The equation of the hyperplane #\", i+1, \"is: \", np.round(clf.coef_[i,0],0),\" x + \",np.round(clf.coef_[i,1],1),\" y +  \", np.round(clf.coef_[i,0],2),\" z + \",np.round(clf.coef_[i,1],3),\" w +  \", np.round(clf.intercept_[i],2),\" = 0\")"
      ],
      "execution_count": 60,
      "outputs": [
        {
          "output_type": "stream",
          "text": [
            "The equation of the hyperplane # 1 is:  -4.0  x +  4.6  y +   -4.46  z +  4.613  w +   -9.22  = 0\n",
            "The equation of the hyperplane # 2 is:  -1.0  x +  -0.4  y +   -0.66  z +  -0.39  w +   0.35  = 0\n",
            "The equation of the hyperplane # 3 is:  -6.0  x +  0.7  y +   -6.26  z +  0.745  w +   -40.92  = 0\n"
          ],
          "name": "stdout"
        }
      ]
    },
    {
      "cell_type": "markdown",
      "metadata": {
        "id": "gCKP1yxsszcr",
        "colab_type": "text"
      },
      "source": [
        "### Calculating Error Rate"
      ]
    },
    {
      "cell_type": "markdown",
      "metadata": {
        "id": "kXXfCMA6s7BD",
        "colab_type": "text"
      },
      "source": [
        "#### Test accuracy of predictions on the training dataset"
      ]
    },
    {
      "cell_type": "code",
      "metadata": {
        "id": "RVawtUTuqXCv",
        "colab_type": "code",
        "colab": {
          "base_uri": "https://localhost:8080/",
          "height": 34
        },
        "outputId": "d4977743-472a-47bb-cbc1-1026add082f4"
      },
      "source": [
        "# try to predict y_train from x_train\n",
        "y_train_predict = clf.predict(x_train)\n",
        "\n",
        "# calculate the accuracy score\n",
        "score_train = metrics.accuracy_score(y_train, y_train_predict)\n",
        "\n",
        "score_train"
      ],
      "execution_count": 62,
      "outputs": [
        {
          "output_type": "execute_result",
          "data": {
            "text/plain": [
              "0.9285714285714286"
            ]
          },
          "metadata": {
            "tags": []
          },
          "execution_count": 62
        }
      ]
    },
    {
      "cell_type": "markdown",
      "metadata": {
        "id": "7XfFL1DmtEXW",
        "colab_type": "text"
      },
      "source": [
        "#### Test accuracy of predictions on the test dataset"
      ]
    },
    {
      "cell_type": "code",
      "metadata": {
        "id": "sFMBLpxyqaEX",
        "colab_type": "code",
        "colab": {
          "base_uri": "https://localhost:8080/",
          "height": 34
        },
        "outputId": "c91b1faa-01df-47de-f122-368285db3a2c"
      },
      "source": [
        "# try to predict y_test from x_test\n",
        "y_test_predict = clf.predict(x_test)\n",
        "\n",
        "# calculate the accuracy score\n",
        "score_test = metrics.accuracy_score(y_test, y_test_predict)\n",
        "\n",
        "score_test"
      ],
      "execution_count": 64,
      "outputs": [
        {
          "output_type": "execute_result",
          "data": {
            "text/plain": [
              "0.9210526315789473"
            ]
          },
          "metadata": {
            "tags": []
          },
          "execution_count": 64
        }
      ]
    },
    {
      "cell_type": "code",
      "metadata": {
        "id": "pNoATuB-qk31",
        "colab_type": "code",
        "colab": {
          "base_uri": "https://localhost:8080/",
          "height": 51
        },
        "outputId": "fc67e891-3416-4a5a-fca3-9bb8b6e40c59"
      },
      "source": [
        "print( y_test - y_test_predict)\n",
        "# non-zero values are incorectly predicted"
      ],
      "execution_count": 65,
      "outputs": [
        {
          "output_type": "stream",
          "text": [
            "[0 1 0 0 1 0 0 0 0 0 0 0 0 0 0 0 0 0 0 1 0 0 0 0 0 0 0 0 0 0 0 0 0 0 0 0 0\n",
            " 0]\n"
          ],
          "name": "stdout"
        }
      ]
    },
    {
      "cell_type": "code",
      "metadata": {
        "id": "K7EFlrR6tKxX",
        "colab_type": "code",
        "colab": {
          "base_uri": "https://localhost:8080/",
          "height": 34
        },
        "outputId": "375cd346-8349-497c-88f5-f7427c323d6a"
      },
      "source": [
        "print(np.count_nonzero(y_test - y_test_predict), \"data points incorrectly classified\" )"
      ],
      "execution_count": 66,
      "outputs": [
        {
          "output_type": "stream",
          "text": [
            "3 data points incorrectly classified\n"
          ],
          "name": "stdout"
        }
      ]
    },
    {
      "cell_type": "code",
      "metadata": {
        "id": "F3hadXX_tNEP",
        "colab_type": "code",
        "colab": {
          "base_uri": "https://localhost:8080/",
          "height": 68
        },
        "outputId": "824dd677-b849-4a67-90dd-f9bf13be12d3"
      },
      "source": [
        "print(metrics.confusion_matrix(y_test, y_test_predict))"
      ],
      "execution_count": 67,
      "outputs": [
        {
          "output_type": "stream",
          "text": [
            "[[16  0  0]\n",
            " [ 0 17  0]\n",
            " [ 0  3  2]]\n"
          ],
          "name": "stdout"
        }
      ]
    },
    {
      "cell_type": "code",
      "metadata": {
        "id": "MmhT4ynKtOTk",
        "colab_type": "code",
        "colab": {
          "base_uri": "https://localhost:8080/",
          "height": 187
        },
        "outputId": "538b2379-4842-40b2-9b42-dda07316a246"
      },
      "source": [
        "print(metrics.classification_report(y_test, y_test_predict, target_names=iris.target_names))"
      ],
      "execution_count": 68,
      "outputs": [
        {
          "output_type": "stream",
          "text": [
            "              precision    recall  f1-score   support\n",
            "\n",
            "      setosa       1.00      1.00      1.00        16\n",
            "  versicolor       0.85      1.00      0.92        17\n",
            "   virginica       1.00      0.40      0.57         5\n",
            "\n",
            "    accuracy                           0.92        38\n",
            "   macro avg       0.95      0.80      0.83        38\n",
            "weighted avg       0.93      0.92      0.91        38\n",
            "\n"
          ],
          "name": "stdout"
        }
      ]
    },
    {
      "cell_type": "markdown",
      "metadata": {
        "id": "1CWu57FTtU_l",
        "colab_type": "text"
      },
      "source": [
        "It looks like the classification accuracy increases sharply when all the features are used to train the model (instead of just 2)."
      ]
    },
    {
      "cell_type": "code",
      "metadata": {
        "id": "II4-GwBZtQSF",
        "colab_type": "code",
        "colab": {}
      },
      "source": [
        "# test code here"
      ],
      "execution_count": 0,
      "outputs": []
    }
  ]
}